{
  "nbformat": 4,
  "nbformat_minor": 0,
  "metadata": {
    "colab": {
      "name": "Defensive_Distillation.ipynb",
      "provenance": [],
      "collapsed_sections": []
    },
    "kernelspec": {
      "name": "python3",
      "display_name": "Python 3"
    },
    "language_info": {
      "name": "python"
    },
    "accelerator": "GPU"
  },
  "cells": [
    {
      "cell_type": "code",
      "metadata": {
        "colab": {
          "base_uri": "https://localhost:8080/"
        },
        "id": "O8FdFN53bhBY",
        "outputId": "434f0afa-84e8-4ec0-e051-ce3fe39e76d8"
      },
      "source": [
        "from google.colab import drive\n",
        "drive.mount(\"/content/gdrive\")"
      ],
      "execution_count": null,
      "outputs": [
        {
          "output_type": "stream",
          "text": [
            "Mounted at /content/gdrive\n"
          ],
          "name": "stdout"
        }
      ]
    },
    {
      "cell_type": "code",
      "metadata": {
        "id": "BA6tnXSJc0DI"
      },
      "source": [
        "import os\n",
        "from PIL import Image\n",
        "import numpy as np\n",
        "import pandas as pd\n",
        "from collections import Counter\n",
        "import matplotlib.pyplot as plt"
      ],
      "execution_count": null,
      "outputs": []
    },
    {
      "cell_type": "code",
      "metadata": {
        "id": "5ESiN969c16n"
      },
      "source": [
        "import tensorflow\n",
        "import tensorflow.keras as keras\n",
        "import tensorflow as tf\n",
        "from tensorflow.keras.preprocessing.image import ImageDataGenerator\n",
        "\n",
        "from tensorflow.keras.applications.resnet import ResNet50\n",
        "from tensorflow.keras.applications.resnet import preprocess_input as resnet_preprocess\n",
        "\n",
        "from tensorflow.keras.applications.efficientnet import EfficientNetB0\n",
        "from tensorflow.keras.applications.efficientnet import preprocess_input as effnet_preprocess\n",
        "\n",
        "from tensorflow.keras.applications.densenet import DenseNet121\n",
        "from tensorflow.keras.applications.densenet import preprocess_input as densenet_preprocess\n",
        "\n",
        "from tensorflow.keras.applications.vgg16 import VGG16\n",
        "from tensorflow.keras.applications.resnet import preprocess_input as vgg_preprocess\n",
        "\n",
        "from tensorflow.keras.models import Model\n",
        "\n",
        "from tensorflow.keras.layers import Conv2D, MaxPool2D, Flatten, Dense, BatchNormalization, Dropout, Input\n",
        "from tensorflow.keras.models import Sequential,load_model"
      ],
      "execution_count": null,
      "outputs": []
    },
    {
      "cell_type": "code",
      "metadata": {
        "id": "HPGpjSlQc7Do"
      },
      "source": [
        "with np.load('/content/gdrive/MyDrive/sp_train.npz') as data:\n",
        "    X_train = data[\"dataset\"]\n",
        "    y_train = data[\"labels\"]\n",
        "\n",
        "with np.load('/content/gdrive/MyDrive/sp_valid.npz') as data:\n",
        "    X_valid = data[\"dataset\"]\n",
        "    y_valid = data[\"labels\"]"
      ],
      "execution_count": null,
      "outputs": []
    },
    {
      "cell_type": "code",
      "metadata": {
        "id": "QsM77QKtRkgi"
      },
      "source": [
        "with np.load('/content/gdrive/MyDrive/sp_test.npz') as data:\n",
        "    dataset = data[\"dataset\"]\n",
        "    labels = data[\"labels\"]"
      ],
      "execution_count": null,
      "outputs": []
    },
    {
      "cell_type": "code",
      "metadata": {
        "id": "m5AOSEFiJbC6"
      },
      "source": [
        "y_train = tensorflow.keras.utils.to_categorical(y_train, 2)\n",
        "y_valid = tensorflow.keras.utils.to_categorical(y_valid, 2)"
      ],
      "execution_count": null,
      "outputs": []
    },
    {
      "cell_type": "code",
      "metadata": {
        "colab": {
          "base_uri": "https://localhost:8080/"
        },
        "id": "tlvwsFubJsxr",
        "outputId": "4d64cdaf-c410-481f-e7d3-2e029e5843d0"
      },
      "source": [
        "input_shape = (224, 224, 3)\n",
        "input = dataset[:1]\n",
        "\n",
        "base_model = ResNet50(input_shape=input_shape, include_top=False, weights='imagenet')\n",
        "base_model.trainable = False\n",
        "output = base_model(input)\n",
        "print(output.shape)"
      ],
      "execution_count": null,
      "outputs": [
        {
          "output_type": "stream",
          "text": [
            "Downloading data from https://storage.googleapis.com/tensorflow/keras-applications/resnet/resnet50_weights_tf_dim_ordering_tf_kernels_notop.h5\n",
            "94773248/94765736 [==============================] - 1s 0us/step\n",
            "(1, 7, 7, 2048)\n"
          ],
          "name": "stdout"
        }
      ]
    },
    {
      "cell_type": "code",
      "metadata": {
        "colab": {
          "base_uri": "https://localhost:8080/"
        },
        "id": "r9_EjWR-JyJb",
        "outputId": "bcf22119-3f86-4512-9dd0-1402294aa7bd"
      },
      "source": [
        "global_average_layer = keras.layers.GlobalAveragePooling2D()\n",
        "feature_batch_average = global_average_layer(output)\n",
        "print(feature_batch_average.shape)\n",
        "prediction_layer = keras.layers.Dense(2)\n",
        "prediction_batch = prediction_layer(feature_batch_average)\n",
        "print(prediction_batch.shape)"
      ],
      "execution_count": null,
      "outputs": [
        {
          "output_type": "stream",
          "text": [
            "(1, 2048)\n",
            "(1, 2)\n"
          ],
          "name": "stdout"
        }
      ]
    },
    {
      "cell_type": "code",
      "metadata": {
        "id": "Z-ouHmD8JzQc"
      },
      "source": [
        "inputs = keras.Input(shape=input_shape)\n",
        "x = resnet_preprocess(inputs)\n",
        "x = base_model(x, training=False)\n",
        "x = global_average_layer(x)\n",
        "x = keras.layers.Dropout(0.2)(x)\n",
        "outputs = prediction_layer(x)\n",
        "model = keras.Model(inputs, outputs)"
      ],
      "execution_count": null,
      "outputs": []
    },
    {
      "cell_type": "code",
      "metadata": {
        "id": "3-Uq_lidJ1Hb"
      },
      "source": [
        "def fn(correct, predicted,train_temp=100): \n",
        "    return tf.nn.softmax_cross_entropy_with_logits(labels=correct,\n",
        "                                                    logits=predicted/train_temp)"
      ],
      "execution_count": null,
      "outputs": []
    },
    {
      "cell_type": "code",
      "metadata": {
        "colab": {
          "base_uri": "https://localhost:8080/"
        },
        "id": "USaYrOi5J2hr",
        "outputId": "7167d103-d636-44d4-cd92-3c8b8781da36"
      },
      "source": [
        "optimizer=keras.optimizers.Adam(learning_rate=0.00001)\n",
        "model.compile(optimizer=optimizer,\n",
        "              loss=fn,\n",
        "              metrics=['accuracy'])\n",
        "model.summary()"
      ],
      "execution_count": null,
      "outputs": [
        {
          "output_type": "stream",
          "text": [
            "Model: \"model\"\n",
            "_________________________________________________________________\n",
            "Layer (type)                 Output Shape              Param #   \n",
            "=================================================================\n",
            "input_2 (InputLayer)         [(None, 224, 224, 3)]     0         \n",
            "_________________________________________________________________\n",
            "tf.__operators__.getitem (Sl (None, 224, 224, 3)       0         \n",
            "_________________________________________________________________\n",
            "tf.nn.bias_add (TFOpLambda)  (None, 224, 224, 3)       0         \n",
            "_________________________________________________________________\n",
            "resnet50 (Functional)        (None, 7, 7, 2048)        23587712  \n",
            "_________________________________________________________________\n",
            "global_average_pooling2d (Gl (None, 2048)              0         \n",
            "_________________________________________________________________\n",
            "dropout (Dropout)            (None, 2048)              0         \n",
            "_________________________________________________________________\n",
            "dense (Dense)                (None, 2)                 4098      \n",
            "=================================================================\n",
            "Total params: 23,591,810\n",
            "Trainable params: 4,098\n",
            "Non-trainable params: 23,587,712\n",
            "_________________________________________________________________\n"
          ],
          "name": "stdout"
        }
      ]
    },
    {
      "cell_type": "code",
      "metadata": {
        "colab": {
          "base_uri": "https://localhost:8080/"
        },
        "id": "1Prf65TIJ5iq",
        "outputId": "42162913-58b6-49d3-974f-d42c09bc5c3c"
      },
      "source": [
        "history = model.fit(X_train, soft, validation_data=(X_valid, y_valid), batch_size=16, epochs=15)"
      ],
      "execution_count": null,
      "outputs": [
        {
          "output_type": "stream",
          "text": [
            "Epoch 1/15\n",
            "962/962 [==============================] - 145s 147ms/step - loss: 0.6931 - accuracy: 0.7088 - val_loss: 0.6923 - val_accuracy: 0.5409\n",
            "Epoch 2/15\n",
            "962/962 [==============================] - 140s 145ms/step - loss: 0.6930 - accuracy: 0.8474 - val_loss: 0.6916 - val_accuracy: 0.5492\n",
            "Epoch 3/15\n",
            "962/962 [==============================] - 140s 145ms/step - loss: 0.6930 - accuracy: 0.8837 - val_loss: 0.6911 - val_accuracy: 0.5546\n",
            "Epoch 4/15\n",
            "962/962 [==============================] - 140s 145ms/step - loss: 0.6930 - accuracy: 0.8984 - val_loss: 0.6906 - val_accuracy: 0.5586\n",
            "Epoch 5/15\n",
            "962/962 [==============================] - 140s 145ms/step - loss: 0.6929 - accuracy: 0.9090 - val_loss: 0.6902 - val_accuracy: 0.5608\n",
            "Epoch 6/15\n",
            "962/962 [==============================] - 140s 145ms/step - loss: 0.6929 - accuracy: 0.9183 - val_loss: 0.6899 - val_accuracy: 0.5677\n",
            "Epoch 7/15\n",
            "962/962 [==============================] - 140s 145ms/step - loss: 0.6929 - accuracy: 0.9272 - val_loss: 0.6896 - val_accuracy: 0.5675\n",
            "Epoch 8/15\n",
            "962/962 [==============================] - 140s 145ms/step - loss: 0.6929 - accuracy: 0.9312 - val_loss: 0.6895 - val_accuracy: 0.5702\n",
            "Epoch 9/15\n",
            "962/962 [==============================] - 140s 145ms/step - loss: 0.6929 - accuracy: 0.9348 - val_loss: 0.6894 - val_accuracy: 0.5712\n",
            "Epoch 10/15\n",
            "962/962 [==============================] - 140s 146ms/step - loss: 0.6929 - accuracy: 0.9381 - val_loss: 0.6893 - val_accuracy: 0.5728\n",
            "Epoch 11/15\n",
            "962/962 [==============================] - 140s 145ms/step - loss: 0.6929 - accuracy: 0.9390 - val_loss: 0.6892 - val_accuracy: 0.5734\n",
            "Epoch 12/15\n",
            "962/962 [==============================] - 140s 145ms/step - loss: 0.6929 - accuracy: 0.9389 - val_loss: 0.6892 - val_accuracy: 0.5737\n",
            "Epoch 13/15\n",
            "962/962 [==============================] - 140s 145ms/step - loss: 0.6929 - accuracy: 0.9444 - val_loss: 0.6891 - val_accuracy: 0.5753\n",
            "Epoch 14/15\n",
            "962/962 [==============================] - 140s 145ms/step - loss: 0.6929 - accuracy: 0.9470 - val_loss: 0.6891 - val_accuracy: 0.5750\n",
            "Epoch 15/15\n",
            "962/962 [==============================] - 140s 146ms/step - loss: 0.6929 - accuracy: 0.9487 - val_loss: 0.6891 - val_accuracy: 0.5747\n"
          ],
          "name": "stdout"
        }
      ]
    },
    {
      "cell_type": "code",
      "metadata": {
        "colab": {
          "base_uri": "https://localhost:8080/"
        },
        "id": "aPbaU-Ffb18h",
        "outputId": "8c141f46-9293-48e7-a768-8e16d3d28dea"
      },
      "source": [
        "model.save('/content/gdrive/My Drive/models/sp_model_studentv1.h5')"
      ],
      "execution_count": null,
      "outputs": [
        {
          "output_type": "stream",
          "text": [
            "/usr/local/lib/python3.7/dist-packages/tensorflow/python/keras/utils/generic_utils.py:497: CustomMaskWarning: Custom mask layers require a config and must override get_config. When loading, the custom mask layer must be passed to the custom_objects argument.\n",
            "  category=CustomMaskWarning)\n"
          ],
          "name": "stderr"
        }
      ]
    },
    {
      "cell_type": "code",
      "metadata": {
        "id": "CjLuh-eWKPzz"
      },
      "source": [
        "classes=model.predict(X_train)"
      ],
      "execution_count": null,
      "outputs": []
    },
    {
      "cell_type": "code",
      "metadata": {
        "id": "elVVFrGDShu_"
      },
      "source": [
        "soft=tf.nn.softmax(classes/100)"
      ],
      "execution_count": null,
      "outputs": []
    },
    {
      "cell_type": "code",
      "metadata": {
        "colab": {
          "base_uri": "https://localhost:8080/"
        },
        "id": "xpjlxj-TSn8d",
        "outputId": "09aa28a8-c0f6-4126-a61e-1fdf839f32ff"
      },
      "source": [
        "soft"
      ],
      "execution_count": null,
      "outputs": [
        {
          "output_type": "execute_result",
          "data": {
            "text/plain": [
              "<tf.Tensor: shape=(15390, 2), dtype=float32, numpy=\n",
              "array([[0.5072666 , 0.49273342],\n",
              "       [0.51622945, 0.48377058],\n",
              "       [0.49936235, 0.50063765],\n",
              "       ...,\n",
              "       [0.4897501 , 0.5102499 ],\n",
              "       [0.50214803, 0.49785194],\n",
              "       [0.5033197 , 0.49668026]], dtype=float32)>"
            ]
          },
          "metadata": {
            "tags": []
          },
          "execution_count": 38
        }
      ]
    },
    {
      "cell_type": "code",
      "metadata": {
        "colab": {
          "base_uri": "https://localhost:8080/"
        },
        "id": "NCYU6srRRXJZ",
        "outputId": "3126488e-c559-4c99-c6ae-3ac28b8ab034"
      },
      "source": [
        "print(len(base_model.layers))\n",
        "base_model.trainable = True\n",
        "\n",
        "# Fine-tune from this layer onwards\n",
        "fine_tune_at = 172\n",
        "\n",
        "# Freeze all the layers before the `fine_tune_at` layer\n",
        "for layer in base_model.layers[:fine_tune_at]:\n",
        "  layer.trainable =  False"
      ],
      "execution_count": null,
      "outputs": [
        {
          "output_type": "stream",
          "text": [
            "175\n"
          ],
          "name": "stdout"
        }
      ]
    },
    {
      "cell_type": "code",
      "metadata": {
        "colab": {
          "base_uri": "https://localhost:8080/"
        },
        "id": "gn1GxPU0RXmi",
        "outputId": "9e4ba232-bfe2-4777-8fc8-1add2529d3fc"
      },
      "source": [
        "model.compile(optimizer=tensorflow.keras.optimizers.Adam(learning_rate=0.0001),\n",
        "              loss=fn,\n",
        "              metrics=['accuracy', 'AUC'])\n",
        "model.summary()"
      ],
      "execution_count": null,
      "outputs": [
        {
          "output_type": "stream",
          "text": [
            "Model: \"model_1\"\n",
            "_________________________________________________________________\n",
            "Layer (type)                 Output Shape              Param #   \n",
            "=================================================================\n",
            "input_4 (InputLayer)         [(None, 224, 224, 3)]     0         \n",
            "_________________________________________________________________\n",
            "tf.__operators__.getitem_1 ( (None, 224, 224, 3)       0         \n",
            "_________________________________________________________________\n",
            "tf.nn.bias_add_1 (TFOpLambda (None, 224, 224, 3)       0         \n",
            "_________________________________________________________________\n",
            "resnet50 (Functional)        (None, 7, 7, 2048)        23587712  \n",
            "_________________________________________________________________\n",
            "global_average_pooling2d_1 ( (None, 2048)              0         \n",
            "_________________________________________________________________\n",
            "dropout_1 (Dropout)          (None, 2048)              0         \n",
            "_________________________________________________________________\n",
            "dense_1 (Dense)              (None, 2)                 4098      \n",
            "=================================================================\n",
            "Total params: 23,591,810\n",
            "Trainable params: 4,098\n",
            "Non-trainable params: 23,587,712\n",
            "_________________________________________________________________\n"
          ],
          "name": "stdout"
        }
      ]
    },
    {
      "cell_type": "code",
      "metadata": {
        "colab": {
          "base_uri": "https://localhost:8080/"
        },
        "id": "UPfxEz9TRLsl",
        "outputId": "18b0ab0a-f0c6-489c-9009-2d32294bc1ec"
      },
      "source": [
        "history = model.fit(X_train, y_train, validation_data=(X_valid, y_valid), batch_size=16, epochs=15)"
      ],
      "execution_count": null,
      "outputs": [
        {
          "output_type": "stream",
          "text": [
            "Epoch 1/15\n",
            "962/962 [==============================] - 147s 148ms/step - loss: 0.6936 - accuracy: 0.5152 - val_loss: 0.6969 - val_accuracy: 0.5449\n",
            "Epoch 2/15\n",
            "962/962 [==============================] - 140s 145ms/step - loss: 0.6936 - accuracy: 0.5229 - val_loss: 0.6969 - val_accuracy: 0.5417\n",
            "Epoch 3/15\n",
            "962/962 [==============================] - 140s 145ms/step - loss: 0.6936 - accuracy: 0.5192 - val_loss: 0.6969 - val_accuracy: 0.5403\n",
            "Epoch 4/15\n",
            "962/962 [==============================] - 139s 144ms/step - loss: 0.6936 - accuracy: 0.5199 - val_loss: 0.6969 - val_accuracy: 0.5395\n",
            "Epoch 5/15\n",
            "962/962 [==============================] - 139s 145ms/step - loss: 0.6936 - accuracy: 0.5160 - val_loss: 0.6969 - val_accuracy: 0.5411\n",
            "Epoch 6/15\n",
            "962/962 [==============================] - 140s 145ms/step - loss: 0.6936 - accuracy: 0.5208 - val_loss: 0.6969 - val_accuracy: 0.5395\n",
            "Epoch 7/15\n",
            "962/962 [==============================] - 139s 145ms/step - loss: 0.6936 - accuracy: 0.5174 - val_loss: 0.6969 - val_accuracy: 0.5403\n",
            "Epoch 8/15\n",
            "962/962 [==============================] - 139s 145ms/step - loss: 0.6936 - accuracy: 0.5175 - val_loss: 0.6969 - val_accuracy: 0.5371\n",
            "Epoch 9/15\n",
            "962/962 [==============================] - 139s 144ms/step - loss: 0.6936 - accuracy: 0.5112 - val_loss: 0.6969 - val_accuracy: 0.5358\n",
            "Epoch 10/15\n",
            "962/962 [==============================] - 139s 144ms/step - loss: 0.6936 - accuracy: 0.5190 - val_loss: 0.6969 - val_accuracy: 0.5328\n",
            "Epoch 11/15\n",
            "962/962 [==============================] - 140s 145ms/step - loss: 0.6936 - accuracy: 0.5183 - val_loss: 0.6969 - val_accuracy: 0.5309\n",
            "Epoch 12/15\n",
            "962/962 [==============================] - 140s 146ms/step - loss: 0.6936 - accuracy: 0.5122 - val_loss: 0.6969 - val_accuracy: 0.5290\n",
            "Epoch 13/15\n",
            "962/962 [==============================] - 140s 145ms/step - loss: 0.6936 - accuracy: 0.5100 - val_loss: 0.6969 - val_accuracy: 0.5288\n",
            "Epoch 14/15\n",
            "962/962 [==============================] - 140s 145ms/step - loss: 0.6936 - accuracy: 0.5153 - val_loss: 0.6969 - val_accuracy: 0.5288\n",
            "Epoch 15/15\n",
            "962/962 [==============================] - 140s 145ms/step - loss: 0.6936 - accuracy: 0.5125 - val_loss: 0.6969 - val_accuracy: 0.5258\n"
          ],
          "name": "stdout"
        }
      ]
    },
    {
      "cell_type": "code",
      "metadata": {
        "id": "h2wf2kfACOJf"
      },
      "source": [
        "preds = np.argmax(tensorflow.nn.softmax(model.predict(dataset), axis=-1))"
      ],
      "execution_count": null,
      "outputs": []
    },
    {
      "cell_type": "code",
      "metadata": {
        "id": "bXcMbTbFkE2Q"
      },
      "source": [
        "model = tensorflow.keras.models.load_model('/content/gdrive/MyDrive/models/sp_model_15_softmax2.h5')"
      ],
      "execution_count": null,
      "outputs": []
    },
    {
      "cell_type": "code",
      "metadata": {
        "id": "lKYgMgUSajFx"
      },
      "source": [
        "with np.load('/content/gdrive/MyDrive/sp_adv_train_2.npz') as data:\n",
        "    dataset1 = data[\"dataset\"]\n",
        "    labels1 = data[\"labels\"]"
      ],
      "execution_count": null,
      "outputs": []
    },
    {
      "cell_type": "code",
      "metadata": {
        "colab": {
          "base_uri": "https://localhost:8080/"
        },
        "id": "FAkcxiHEZGts",
        "outputId": "b74ff4d1-4ecb-4d7c-b86c-49dd40029a2a"
      },
      "source": [
        "correct = []\n",
        "for i in range(len(dataset)):\n",
        "    correct.append(np.argmax(tensorflow.nn.softmax(model1.predict(dataset[i:i+1]), axis=-1)) == labels[i])\n",
        "\n",
        "Counter(correct)"
      ],
      "execution_count": null,
      "outputs": [
        {
          "output_type": "execute_result",
          "data": {
            "text/plain": [
              "Counter({False: 132, True: 268})"
            ]
          },
          "metadata": {
            "tags": []
          },
          "execution_count": 11
        }
      ]
    },
    {
      "cell_type": "code",
      "metadata": {
        "colab": {
          "base_uri": "https://localhost:8080/"
        },
        "id": "W2dhlhd3aPsz",
        "outputId": "f8b4d488-44f0-431e-8a66-11078794dc39"
      },
      "source": [
        "np.argmax(tensorflow.nn.softmax(model.predict(dataset), axis=-1))"
      ],
      "execution_count": null,
      "outputs": [
        {
          "output_type": "execute_result",
          "data": {
            "text/plain": [
              "0"
            ]
          },
          "metadata": {
            "tags": []
          },
          "execution_count": 39
        }
      ]
    },
    {
      "cell_type": "code",
      "metadata": {
        "id": "3-FZxLrhvnKz"
      },
      "source": [
        ""
      ],
      "execution_count": null,
      "outputs": []
    }
  ]
}